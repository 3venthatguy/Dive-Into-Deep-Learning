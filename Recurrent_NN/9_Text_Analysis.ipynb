{
 "cells": [
  {
   "cell_type": "code",
   "execution_count": 1,
   "id": "36bb257a",
   "metadata": {},
   "outputs": [],
   "source": [
    "import collections\n",
    "import random\n",
    "import re\n",
    "import torch\n",
    "from d2l import torch as d2l"
   ]
  },
  {
   "cell_type": "code",
   "execution_count": 4,
   "id": "c6a0c55a",
   "metadata": {},
   "outputs": [
    {
     "data": {
      "text/plain": [
       "'the time machine by h g wells i the time traveller for so it'"
      ]
     },
     "execution_count": 4,
     "metadata": {},
     "output_type": "execute_result"
    }
   ],
   "source": [
    "class TimeMachine(d2l.DataModule): #@save\n",
    "    \"\"\"The Time Machine dataset.\"\"\"\n",
    "    def _download(self):\n",
    "        fname = d2l.download(d2l.DATA_URL + 'timemachine.txt', self.root,\n",
    "                             '090b5e7e70c295757f55df93cb0a180b9691891a')\n",
    "        with open(fname) as f:\n",
    "            return f.read()\n",
    "    \n",
    "    def _preprocess(self, text):\n",
    "        return re.sub('[^A-Za-z]+', ' ', text).lower()      # keep only letters and convert to lower case\n",
    "\n",
    "data = TimeMachine()\n",
    "raw_text = data._download()\n",
    "text = data._preprocess(raw_text)\n",
    "text[:60]"
   ]
  },
  {
   "cell_type": "code",
   "execution_count": null,
   "id": "0dd85251",
   "metadata": {},
   "outputs": [
    {
     "data": {
      "text/plain": [
       "'t,h,e, ,t,i,m,e, ,m,a,c,h,i,n,e, ,b,y, ,h, ,g, ,w,e,l,l,s, '"
      ]
     },
     "execution_count": 5,
     "metadata": {},
     "output_type": "execute_result"
    }
   ],
   "source": [
    "@d2l.add_to_class(TimeMachine)  #@save\n",
    "def _tokenize(self, text):\n",
    "    return list(text)               # list of characters\n",
    "\n",
    "tokens = data._tokenize(text)       # save each character & space as a token\n",
    "','.join(tokens[:30])"
   ]
  },
  {
   "cell_type": "code",
   "execution_count": null,
   "id": "829fd924",
   "metadata": {},
   "outputs": [],
   "source": []
  }
 ],
 "metadata": {
  "kernelspec": {
   "display_name": "d2l",
   "language": "python",
   "name": "python3"
  },
  "language_info": {
   "codemirror_mode": {
    "name": "ipython",
    "version": 3
   },
   "file_extension": ".py",
   "mimetype": "text/x-python",
   "name": "python",
   "nbconvert_exporter": "python",
   "pygments_lexer": "ipython3",
   "version": "3.10.18"
  }
 },
 "nbformat": 4,
 "nbformat_minor": 5
}
