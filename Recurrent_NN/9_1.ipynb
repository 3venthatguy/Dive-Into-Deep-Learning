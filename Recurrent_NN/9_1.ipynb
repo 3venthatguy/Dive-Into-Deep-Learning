{
 "cells": [
  {
   "cell_type": "markdown",
   "id": "92ceec76",
   "metadata": {},
   "source": [
    "### Recurrent Neural Networks\n",
    "\n",
    "A structured NN model that trains on sequential data. This is data where one sample depends on its previous sample, like in a time series (video where each image is a sequence of the previous image, stock price, audio, text)"
   ]
  },
  {
   "cell_type": "markdown",
   "id": "6f46625a",
   "metadata": {},
   "source": []
  }
 ],
 "metadata": {
  "kernelspec": {
   "display_name": "d2l-env",
   "language": "python",
   "name": "python3"
  },
  "language_info": {
   "name": "python",
   "version": "3.10.18"
  }
 },
 "nbformat": 4,
 "nbformat_minor": 5
}
