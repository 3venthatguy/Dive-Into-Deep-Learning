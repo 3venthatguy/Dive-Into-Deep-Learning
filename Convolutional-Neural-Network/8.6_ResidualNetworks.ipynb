{
 "cells": [
  {
   "cell_type": "code",
   "execution_count": 1,
   "id": "ee3399b6",
   "metadata": {},
   "outputs": [],
   "source": [
    "import torch\n",
    "from torch import nn\n",
    "from torch.nn import functional as F\n",
    "from d2l import torch as d2l"
   ]
  },
  {
   "cell_type": "code",
   "execution_count": null,
   "id": "3315ea44",
   "metadata": {},
   "outputs": [],
   "source": []
  },
  {
   "cell_type": "markdown",
   "id": "abbc5c98",
   "metadata": {},
   "source": [
    "# Residual Blocks\n",
    "\n",
    "Residual blocks are fundamental building blocks of modern deep neural networks, particularly in ResNet architectures. They address the problem of degrading accuracy in very deep networks through a clever \"skip connection\" mechanism.\n",
    "\n",
    "Key components of a residual block:\n",
    "\n",
    "1. **Skip Connection (Identity Path)**:\n",
    "   - Directly passes input x to the output\n",
    "   - Preserves original features\n",
    "   - Helps with gradient flow during backpropagation\n",
    "\n",
    "2. **Residual Path**:\n",
    "   - Processes input through layers (typically conv + batch norm + ReLU)\n",
    "   - Learns residual function F(x)\n",
    "   - Output = F(x) + x (adds skip connection)\n",
    "\n",
    "The key insight: Instead of learning a complete transformation H(x), the network learns the residual F(x) = H(x) - x. This makes it easier for the network to learn identity mappings when needed, allowing for successful training of very deep networks."
   ]
  },
  {
   "cell_type": "code",
   "execution_count": null,
   "id": "6adc6fcc",
   "metadata": {},
   "outputs": [],
   "source": [
    "class ResidualBlock(nn.Module):\n",
    "    def __init__(self, input_channels, num_channels, use_1x1conv=False, strides=1):\n",
    "        super().__init__()\n",
    "        # First convolutional layer\n",
    "        self.conv1 = nn.Conv2d(input_channels, num_channels, kernel_size=3, \n",
    "                              padding=1, stride=strides)\n",
    "        self.bn1 = nn.BatchNorm2d(num_channels)\n",
    "        \n",
    "        # Second convolutional layer\n",
    "        self.conv2 = nn.Conv2d(num_channels, num_channels, kernel_size=3, padding=1)\n",
    "        self.bn2 = nn.BatchNorm2d(num_channels)\n",
    "        \n",
    "        # 1x1 convolution for dimension matching if needed\n",
    "        if use_1x1conv:\n",
    "            self.conv3 = nn.Conv2d(input_channels, num_channels, \n",
    "                                 kernel_size=1, stride=strides)\n",
    "        else:\n",
    "            self.conv3 = None\n",
    "            \n",
    "    def forward(self, X):\n",
    "        # Main path through the residual block\n",
    "        Y = F.relu(self.bn1(self.conv1(X)))\n",
    "        Y = self.bn2(self.conv2(Y))\n",
    "        \n",
    "        # Identity path (skip connection)\n",
    "        if self.conv3:\n",
    "            X = self.conv3(X)\n",
    "        \n",
    "        # Add skip connection to main path\n",
    "        Y += X\n",
    "        return F.relu(Y)  # Final activation after addition"
   ]
  },
  {
   "cell_type": "code",
   "execution_count": null,
   "id": "fb725767",
   "metadata": {},
   "outputs": [],
   "source": [
    "# Create a sample input tensor\n",
    "X = torch.randn(1, 3, 224, 224)  # Batch_size=1, channels=3, height=224, width=224\n",
    "\n",
    "# Create a residual block that maintains input dimensions\n",
    "blk = ResidualBlock(3, 3)\n",
    "Y1 = blk(X)\n",
    "print('Output shape with regular residual block:', Y1.shape)\n",
    "\n",
    "# Create a residual block that changes channels and reduces spatial dimensions\n",
    "blk = ResidualBlock(3, 6, use_1x1conv=True, strides=2)\n",
    "Y2 = blk(X)\n",
    "print('Output shape with strided residual block:', Y2.shape)"
   ]
  }
 ],
 "metadata": {
  "kernelspec": {
   "display_name": "d2l-env",
   "language": "python",
   "name": "python3"
  },
  "language_info": {
   "codemirror_mode": {
    "name": "ipython",
    "version": 3
   },
   "file_extension": ".py",
   "mimetype": "text/x-python",
   "name": "python",
   "nbconvert_exporter": "python",
   "pygments_lexer": "ipython3",
   "version": "3.10.18"
  }
 },
 "nbformat": 4,
 "nbformat_minor": 5
}
