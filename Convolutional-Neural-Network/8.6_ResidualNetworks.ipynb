{
 "cells": [
  {
   "cell_type": "code",
   "execution_count": 2,
   "id": "ee3399b6",
   "metadata": {},
   "outputs": [],
   "source": [
    "import torch\n",
    "from torch import nn\n",
    "from torch.nn import functional as F\n",
    "from d2l import torch as d2l"
   ]
  },
  {
   "cell_type": "markdown",
   "id": "914a1b2d",
   "metadata": {},
   "source": [
    "Vanish gradient problem: as neural networks get deeper and are trained on more complex data, researchers found that several gradients would vanish as they propogated over many layers during training.\n",
    "--> This a result of direct mapping, where the network must calculate the complete transformation in each layer from input to output. This follows the intuition that each step must make measureable progress to the outcome\n",
    "\n",
    "Solution came with Residual Mapping where instead of learning the transformation to go from the input to output, the system only learns that value needed to be added\n",
    "- Traditional system learns H(x)\n",
    "- Residual system learns U(x) where U(x) = H(x) - x which is the residual\n",
    "The convolutional layers calculates H(x) then learns U(x) before adding back x to get the output and go to the next calculation"
   ]
  },
  {
   "cell_type": "markdown",
   "id": "abbc5c98",
   "metadata": {},
   "source": [
    "# Residual Blocks\n",
    "\n",
    "Residual blocks are fundamental building blocks of modern deep neural networks, particularly in ResNet architectures. They address the problem of degrading accuracy in very deep networks through a clever \"skip connection\" mechanism.\n",
    "\n",
    "Key components of a residual block:\n",
    "\n",
    "1. **Skip Connection (Identity Path)**:\n",
    "   - Directly passes input x to the output\n",
    "   - Preserves original features\n",
    "   - Helps with gradient flow during backpropagation\n",
    "\n",
    "2. **Residual Path**:\n",
    "   - Processes input through layers (typically conv + batch norm + ReLU)\n",
    "   - Learns residual function F(x)\n",
    "   - Output = F(x) + x (adds skip connection)\n",
    "\n",
    "The key insight: Instead of learning a complete transformation H(x), the network learns the residual F(x) = H(x) - x. This makes it easier for the network to learn identity mappings when needed, allowing for successful training of very deep networks."
   ]
  },
  {
   "cell_type": "code",
   "execution_count": 3,
   "id": "6adc6fcc",
   "metadata": {},
   "outputs": [],
   "source": [
    "class Residual(nn.Module):  #@save\n",
    "    \"\"\"The Residual block of ResNet models.\"\"\"\n",
    "    def __init__(self, num_channels, use_1x1conv=False, strides=1):\n",
    "        super().__init__()\n",
    "        self.conv1 = nn.LazyConv2d(num_channels, kernel_size=3, padding=1,\n",
    "                                   stride=strides)\n",
    "        self.conv2 = nn.LazyConv2d(num_channels, kernel_size=3, padding=1)\n",
    "        if use_1x1conv:\n",
    "            self.conv3 = nn.LazyConv2d(num_channels, kernel_size=1,\n",
    "                                       stride=strides)\n",
    "        else:\n",
    "            self.conv3 = None\n",
    "        self.bn1 = nn.LazyBatchNorm2d()\n",
    "        self.bn2 = nn.LazyBatchNorm2d()\n",
    "\n",
    "    def forward(self, X):\n",
    "        Y = F.relu(self.bn1(self.conv1(X)))\n",
    "        Y = self.bn2(self.conv2(Y))\n",
    "        if self.conv3:\n",
    "            X = self.conv3(X)\n",
    "        Y += X\n",
    "        return F.relu(Y)"
   ]
  },
  {
   "cell_type": "code",
   "execution_count": 4,
   "id": "fb725767",
   "metadata": {},
   "outputs": [
    {
     "data": {
      "text/plain": [
       "torch.Size([4, 3, 6, 6])"
      ]
     },
     "execution_count": 4,
     "metadata": {},
     "output_type": "execute_result"
    }
   ],
   "source": [
    "blk = Residual(3)\n",
    "X = torch.randn(4, 3, 6, 6)\n",
    "blk(X).shape"
   ]
  },
  {
   "cell_type": "code",
   "execution_count": 5,
   "id": "20e6d7d5",
   "metadata": {},
   "outputs": [
    {
     "data": {
      "text/plain": [
       "torch.Size([4, 6, 3, 3])"
      ]
     },
     "execution_count": 5,
     "metadata": {},
     "output_type": "execute_result"
    }
   ],
   "source": [
    "blk = Residual(6, use_1x1conv=True, strides=2)\n",
    "blk(X).shape"
   ]
  },
  {
   "cell_type": "code",
   "execution_count": null,
   "id": "c9d11c58",
   "metadata": {},
   "outputs": [],
   "source": []
  }
 ],
 "metadata": {
  "kernelspec": {
   "display_name": "d2l-env",
   "language": "python",
   "name": "python3"
  },
  "language_info": {
   "codemirror_mode": {
    "name": "ipython",
    "version": 3
   },
   "file_extension": ".py",
   "mimetype": "text/x-python",
   "name": "python",
   "nbconvert_exporter": "python",
   "pygments_lexer": "ipython3",
   "version": "3.10.18"
  }
 },
 "nbformat": 4,
 "nbformat_minor": 5
}
